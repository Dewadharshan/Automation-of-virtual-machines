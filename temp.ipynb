{
 "cells": [
  {
   "cell_type": "code",
   "execution_count": null,
   "metadata": {},
   "outputs": [],
   "source": [
    "import time\n",
    "import pyautogui\n",
    "import subprocess\n",
    "import json\n",
    "import virtualbox\n",
    "from datetime import date\n",
    "\n",
    "with open(\"E:\\shared folder\\\\VM_list.json\", 'r') as vm_list:\n",
    "    vm_list = json.loads(vm_list.read())\n",
    "\n",
    "    vm_list_30 = vm_list['normal_30']\n",
    "    vm_list_90 = vm_list['normal_90']\n",
    "    vm_list_30_cooldown = vm_list['cooldown_30']\n",
    "    vm_list_90_cooldown = vm_list['cooldown_90']\n",
    "\n",
    "    vm_error_30 = []\n",
    "    vm_error_60 = []\n",
    "\n",
    "def read_status_file():\n",
    "    while True:\n",
    "        try:\n",
    "            with open(\"E:\\shared folder\\\\search_status.json\", 'r') as status_file:\n",
    "                file_content = json.loads(status_file.read())\n",
    "            break\n",
    "        except Exception as e:\n",
    "            print(\"Error Reading status file\",e)\n",
    "            time.sleep(1)\n",
    "    \n",
    "    return file_content\n",
    "\n",
    "def write_status_file(file_content):\n",
    "    while True:\n",
    "        try:\n",
    "            with open(\"E:\\shared folder\\\\search_status.json\", 'w') as status_file:\n",
    "                json.dump(file_content, status_file, indent=4)\n",
    "                break\n",
    "        except Exception as e:\n",
    "            print(\"error writing status file\",e)\n",
    "            time.sleep(1)"
   ]
  },
  {
   "cell_type": "code",
   "execution_count": 63,
   "metadata": {},
   "outputs": [
    {
     "data": {
      "text/plain": [
       "'elweb bbs'"
      ]
     },
     "execution_count": 63,
     "metadata": {},
     "output_type": "execute_result"
    }
   ],
   "source": [
    "import random\n",
    "\n",
    "with open(\"queries.txt\" , 'r') as queries:\n",
    "    queries = queries.read()\n",
    "    queries = queries.split(\"\\n\")\n",
    "\n",
    "random.choice(queries)\n"
   ]
  }
 ],
 "metadata": {
  "kernelspec": {
   "display_name": "Python 3",
   "language": "python",
   "name": "python3"
  },
  "language_info": {
   "codemirror_mode": {
    "name": "ipython",
    "version": 3
   },
   "file_extension": ".py",
   "mimetype": "text/x-python",
   "name": "python",
   "nbconvert_exporter": "python",
   "pygments_lexer": "ipython3",
   "version": "3.10.7 (tags/v3.10.7:6cc6b13, Sep  5 2022, 14:08:36) [MSC v.1933 64 bit (AMD64)]"
  },
  "orig_nbformat": 4,
  "vscode": {
   "interpreter": {
    "hash": "26de051ba29f2982a8de78e945f0abaf191376122a1563185a90213a26c5da77"
   }
  }
 },
 "nbformat": 4,
 "nbformat_minor": 2
}
